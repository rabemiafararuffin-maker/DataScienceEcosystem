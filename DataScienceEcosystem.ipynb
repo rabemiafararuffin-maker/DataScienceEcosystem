{
 "cells": [
  {
   "cell_type": "markdown",
   "id": "3bc4214c-53e4-47bd-a4d7-345c9723ea5f",
   "metadata": {},
   "source": [
    "Data Science Tools and Ecosystem"
   ]
  },
  {
   "cell_type": "markdown",
   "id": "51bc03a4-6920-4e40-a4c5-cca2213b0ca1",
   "metadata": {},
   "source": [
    "In this notebook, Data Science Tools and Ecosystem are summarized."
   ]
  },
  {
   "cell_type": "markdown",
   "id": "70ba684f-861c-4cfc-99c3-071b2d739c4a",
   "metadata": {},
   "source": [
    "Some of the popular languages that Data Scientists use are:\n",
    "1. Phyton\n",
    "2. R\n",
    "3. SQL\n"
   ]
  },
  {
   "cell_type": "markdown",
   "id": "27f8f71c-b31f-4976-91e8-99373703878b",
   "metadata": {},
   "source": [
    "Some of the commonly used libraries used by Data Scientists include:\n",
    "1. Pandas\n",
    "2. Numpy\n",
    "3. Scikit-learn"
   ]
  },
  {
   "cell_type": "markdown",
   "id": "7477b57a-95f8-4f4e-906e-8ffbab8cd219",
   "metadata": {},
   "source": [
    "|Environnement de développement open source|\n",
    "|------------------------------------------|\n",
    "|Jupyter Notebook|\n",
    "|RStudio  |\n",
    "|Spyder      |"
   ]
  },
  {
   "cell_type": "markdown",
   "id": "02534f82-1084-47b1-a881-5a55ebd801fe",
   "metadata": {},
   "source": [
    "### Below are a few examples of evaluating arithmetic expressions in Python\n",
    "\n",
    "| Environnement de développement open source |\n",
    "|--------------------------------------------|\n",
    "| Jupyter Notebook                           |\n",
    "| RStudio                                    |\n",
    "| Spyder                                     |"
   ]
  },
  {
   "cell_type": "code",
   "execution_count": 1,
   "id": "538d2cc7-c566-4b4a-932c-910136d8d627",
   "metadata": {},
   "outputs": [
    {
     "data": {
      "text/plain": [
       "17"
      ]
     },
     "execution_count": 1,
     "metadata": {},
     "output_type": "execute_result"
    }
   ],
   "source": [
    "#une simple expression arithmétique pour ajouter plusieurs entiers\n",
    "(3*4)+5"
   ]
  },
  {
   "cell_type": "code",
   "execution_count": 2,
   "id": "1f994b84-8132-428d-bd59-3cefc8a661a1",
   "metadata": {},
   "outputs": [
    {
     "name": "stdout",
     "output_type": "stream",
     "text": [
      "200 minutes correspondent à 3 heures et 20 minutes\n"
     ]
    }
   ],
   "source": [
    "#Cela convertira 200 minutes en heures en plongeant de 60\n",
    "minutes_total = 200\n",
    "heures = minutes_total//60\n",
    "minutes_restantes = minutes_total%60\n",
    "print(minutes_total,\"minutes correspondent à\", heures, \"heures et\", minutes_restantes, \"minutes\")"
   ]
  },
  {
   "cell_type": "markdown",
   "id": "d1405406-d5cc-4812-9c1b-e2f601f1f212",
   "metadata": {},
   "source": [
    "In this notebook, Data Science Tools and Ecosystem are summarized.\n",
    "- **Objectives**\n",
    "- **unordered list**\n",
    "- **List popular languages for Data Science**"
   ]
  },
  {
   "cell_type": "markdown",
   "id": "961c3892-a53c-48d6-ba5d-991792c6d418",
   "metadata": {},
   "source": [
    "## .Author\n",
    "\n",
    "Ceci est mon texte normal sous le titre .Author"
   ]
  },
  {
   "cell_type": "code",
   "execution_count": null,
   "id": "a59aee75-b4c6-47e4-834e-963d38e352ff",
   "metadata": {},
   "outputs": [],
   "source": []
  }
 ],
 "metadata": {
  "kernelspec": {
   "display_name": "Python 3 (ipykernel)",
   "language": "python",
   "name": "python3"
  },
  "language_info": {
   "codemirror_mode": {
    "name": "ipython",
    "version": 3
   },
   "file_extension": ".py",
   "mimetype": "text/x-python",
   "name": "python",
   "nbconvert_exporter": "python",
   "pygments_lexer": "ipython3",
   "version": "3.12.12"
  }
 },
 "nbformat": 4,
 "nbformat_minor": 5
}
